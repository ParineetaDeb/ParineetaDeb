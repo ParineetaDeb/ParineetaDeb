{
  "cells": [
    {
      "cell_type": "markdown",
      "metadata": {
        "id": "view-in-github",
        "colab_type": "text"
      },
      "source": [
        "<a href=\"https://colab.research.google.com/github/ParineetaDeb/ParineetaDeb/blob/main/DrSumitTetarave_Part1_.ipynb\" target=\"_parent\"><img src=\"https://colab.research.google.com/assets/colab-badge.svg\" alt=\"Open In Colab\"/></a>"
      ]
    },
    {
      "cell_type": "markdown",
      "metadata": {
        "id": "ofPuEg3hbBXA"
      },
      "source": [
        "**Day 1:** Setting the platform for Data Science Projects for Beginners.\n",
        "\n",
        "* Step 1) Implementation of our works using Python (Anaconda, VS Code or **Co-Lab**)\n",
        "* Create an account on Google CoLab-\n",
        "Link: https://colab.research.google.com/\n",
        "\n",
        "* **Ask Chat GPT-** interesting and current research problems in cybersecurity\n",
        "\n",
        "(*Automated Vulnerability Detection:* Using static and dynamic analysis, or LLMs, to find bugs in code.)\n",
        "\n",
        "* Step 2) Download a dataset related to our idea (suppose in Cybersecurity)-\n",
        "Link:\n",
        "1.   https://huggingface.co/\n",
        "2.   https://archive.ics.uci.edu/\n",
        "3.   https://www.kaggle.com/\n",
        "\n",
        "Note: We select UNSW-NB15 dataset from Kaggle:\n",
        "Cite Link: https://research.unsw.edu.au/projects/unsw-nb15-dataset\n",
        "path: click on-> TON_IoT-> Train_Test_dataset -> Train_Test_Network_dataset-> train_test_network.csv"
      ]
    },
    {
      "cell_type": "code",
      "source": [],
      "metadata": {
        "id": "ohXx0XuFGS-g"
      },
      "execution_count": null,
      "outputs": []
    },
    {
      "cell_type": "markdown",
      "metadata": {
        "id": "PMpLUxrxpffJ"
      },
      "source": [
        "Summer School aim is to prepare a **technical report on Cybersecurity along with Data Science concepts**\n",
        "\n",
        "Overall Road Map->\n",
        "\n",
        "What are we going to learn:\n",
        "\n",
        "**Part: 1-** How to use data for descriptive and predictive analysis.\n",
        "\n",
        "**Part: 2-** How to generate data using simulation tool for network security analysis (or, patient analysis, weather analysis, etc.)\n",
        "\n",
        "**Part: 3-** How to use new skills to complete our projects. (for example, related to cybersecurity such as Blockchain.)\n",
        "\n",
        "# You can use Overleaf to write your idea: https://www.overleaf.com/login"
      ]
    },
    {
      "cell_type": "markdown",
      "source": [
        "# **My sample Overleaf file link** ->\n",
        "\n",
        "https://www.overleaf.com/read/zdkfcyvmzyhc#c2bb37\n",
        "\n",
        "Copy, update and share with me!!!\n",
        "share with me-> sumitkumar.fca@kiit.ac.in"
      ],
      "metadata": {
        "id": "Jj_BCK4qfsex"
      }
    },
    {
      "cell_type": "code",
      "source": [],
      "metadata": {
        "id": "hm4aMrqR_TZp"
      },
      "execution_count": null,
      "outputs": []
    },
    {
      "cell_type": "code",
      "execution_count": null,
      "metadata": {
        "colab": {
          "background_save": true
        },
        "id": "yKnyjZ6i8r-p"
      },
      "outputs": [],
      "source": []
    },
    {
      "cell_type": "markdown",
      "metadata": {
        "id": "e3uYJd938tgi"
      },
      "source": []
    },
    {
      "cell_type": "code",
      "execution_count": null,
      "metadata": {
        "id": "eYoodVimYjOn"
      },
      "outputs": [],
      "source": [
        "# * Step 3) Import data\n",
        "import pandas as pd"
      ]
    },
    {
      "cell_type": "markdown",
      "metadata": {
        "id": "_9_y8UDzcAL-"
      },
      "source": [
        "There is a number of pandas commands to read other data formats:\n",
        "\n",
        "* pd.read_excel('myfile.xlsx',sheet_name='Sheet1', index_col=None, na_values=['NA'])\n",
        "* pd.read_stata('myfile.dta') # Commonly used for statistical data.\n",
        "* pd.read_sas('myfile.sas7bdat')\n",
        "* pd.read_hdf('myfile.h5','df')\n",
        "* pd.read_csv(\"myfile.csv\")\n",
        "\n"
      ]
    },
    {
      "cell_type": "code",
      "source": [
        "from google.colab import drive\n",
        "drive.mount('/content/drive')"
      ],
      "metadata": {
        "id": "nxCtEFRKGgOW",
        "colab": {
          "base_uri": "https://localhost:8080/"
        },
        "outputId": "d4949598-d233-4aa6-f8fd-cfc90a4aff4d"
      },
      "execution_count": null,
      "outputs": [
        {
          "output_type": "stream",
          "name": "stdout",
          "text": [
            "Mounted at /content/drive\n"
          ]
        }
      ]
    },
    {
      "cell_type": "code",
      "source": [
        "import pandas as pd"
      ],
      "metadata": {
        "id": "m-Yt7t0kFomQ"
      },
      "execution_count": null,
      "outputs": []
    },
    {
      "cell_type": "code",
      "execution_count": null,
      "metadata": {
        "colab": {
          "base_uri": "https://localhost:8080/",
          "height": 443
        },
        "id": "xh9BRlAda3ct",
        "outputId": "cb5d1ef5-c991-48bf-c266-e8993f6595d8"
      },
      "outputs": [
        {
          "output_type": "error",
          "ename": "FileNotFoundError",
          "evalue": "[Errno 2] No such file or directory: 'train_test_network.csv'",
          "traceback": [
            "\u001b[0;31m---------------------------------------------------------------------------\u001b[0m",
            "\u001b[0;31mFileNotFoundError\u001b[0m                         Traceback (most recent call last)",
            "\u001b[0;32m<ipython-input-2-589aaf71bc41>\u001b[0m in \u001b[0;36m<cell line: 0>\u001b[0;34m()\u001b[0m\n\u001b[1;32m      2\u001b[0m \u001b[0;31m# Dataset link: https://unsw-my.sharepoint.com/personal/z5025758_ad_unsw_edu_au/_layouts/15/onedrive.aspx?id=%2Fpersonal%2Fz5025758%5Fad%5Funsw%5Fedu%5Fau%2FDocuments%2FTON%5FIoT%20datasets%2FTrain%5FTest%5Fdatasets%2FTrain%5FTest%5FNetwork%5Fdataset&ga=1\u001b[0m\u001b[0;34m\u001b[0m\u001b[0;34m\u001b[0m\u001b[0m\n\u001b[1;32m      3\u001b[0m \u001b[0;32mimport\u001b[0m \u001b[0mpandas\u001b[0m \u001b[0;32mas\u001b[0m \u001b[0mpd\u001b[0m\u001b[0;34m\u001b[0m\u001b[0;34m\u001b[0m\u001b[0m\n\u001b[0;32m----> 4\u001b[0;31m \u001b[0mdf\u001b[0m \u001b[0;34m=\u001b[0m \u001b[0mpd\u001b[0m\u001b[0;34m.\u001b[0m\u001b[0mread_csv\u001b[0m\u001b[0;34m(\u001b[0m\u001b[0;34m'train_test_network.csv'\u001b[0m\u001b[0;34m)\u001b[0m\u001b[0;34m\u001b[0m\u001b[0;34m\u001b[0m\u001b[0m\n\u001b[0m\u001b[1;32m      5\u001b[0m \u001b[0mdf\u001b[0m\u001b[0;34m.\u001b[0m\u001b[0mhead\u001b[0m\u001b[0;34m(\u001b[0m\u001b[0;34m)\u001b[0m\u001b[0;34m\u001b[0m\u001b[0;34m\u001b[0m\u001b[0m\n",
            "\u001b[0;32m/usr/local/lib/python3.11/dist-packages/pandas/io/parsers/readers.py\u001b[0m in \u001b[0;36mread_csv\u001b[0;34m(filepath_or_buffer, sep, delimiter, header, names, index_col, usecols, dtype, engine, converters, true_values, false_values, skipinitialspace, skiprows, skipfooter, nrows, na_values, keep_default_na, na_filter, verbose, skip_blank_lines, parse_dates, infer_datetime_format, keep_date_col, date_parser, date_format, dayfirst, cache_dates, iterator, chunksize, compression, thousands, decimal, lineterminator, quotechar, quoting, doublequote, escapechar, comment, encoding, encoding_errors, dialect, on_bad_lines, delim_whitespace, low_memory, memory_map, float_precision, storage_options, dtype_backend)\u001b[0m\n\u001b[1;32m   1024\u001b[0m     \u001b[0mkwds\u001b[0m\u001b[0;34m.\u001b[0m\u001b[0mupdate\u001b[0m\u001b[0;34m(\u001b[0m\u001b[0mkwds_defaults\u001b[0m\u001b[0;34m)\u001b[0m\u001b[0;34m\u001b[0m\u001b[0;34m\u001b[0m\u001b[0m\n\u001b[1;32m   1025\u001b[0m \u001b[0;34m\u001b[0m\u001b[0m\n\u001b[0;32m-> 1026\u001b[0;31m     \u001b[0;32mreturn\u001b[0m \u001b[0m_read\u001b[0m\u001b[0;34m(\u001b[0m\u001b[0mfilepath_or_buffer\u001b[0m\u001b[0;34m,\u001b[0m \u001b[0mkwds\u001b[0m\u001b[0;34m)\u001b[0m\u001b[0;34m\u001b[0m\u001b[0;34m\u001b[0m\u001b[0m\n\u001b[0m\u001b[1;32m   1027\u001b[0m \u001b[0;34m\u001b[0m\u001b[0m\n\u001b[1;32m   1028\u001b[0m \u001b[0;34m\u001b[0m\u001b[0m\n",
            "\u001b[0;32m/usr/local/lib/python3.11/dist-packages/pandas/io/parsers/readers.py\u001b[0m in \u001b[0;36m_read\u001b[0;34m(filepath_or_buffer, kwds)\u001b[0m\n\u001b[1;32m    618\u001b[0m \u001b[0;34m\u001b[0m\u001b[0m\n\u001b[1;32m    619\u001b[0m     \u001b[0;31m# Create the parser.\u001b[0m\u001b[0;34m\u001b[0m\u001b[0;34m\u001b[0m\u001b[0m\n\u001b[0;32m--> 620\u001b[0;31m     \u001b[0mparser\u001b[0m \u001b[0;34m=\u001b[0m \u001b[0mTextFileReader\u001b[0m\u001b[0;34m(\u001b[0m\u001b[0mfilepath_or_buffer\u001b[0m\u001b[0;34m,\u001b[0m \u001b[0;34m**\u001b[0m\u001b[0mkwds\u001b[0m\u001b[0;34m)\u001b[0m\u001b[0;34m\u001b[0m\u001b[0;34m\u001b[0m\u001b[0m\n\u001b[0m\u001b[1;32m    621\u001b[0m \u001b[0;34m\u001b[0m\u001b[0m\n\u001b[1;32m    622\u001b[0m     \u001b[0;32mif\u001b[0m \u001b[0mchunksize\u001b[0m \u001b[0;32mor\u001b[0m \u001b[0miterator\u001b[0m\u001b[0;34m:\u001b[0m\u001b[0;34m\u001b[0m\u001b[0;34m\u001b[0m\u001b[0m\n",
            "\u001b[0;32m/usr/local/lib/python3.11/dist-packages/pandas/io/parsers/readers.py\u001b[0m in \u001b[0;36m__init__\u001b[0;34m(self, f, engine, **kwds)\u001b[0m\n\u001b[1;32m   1618\u001b[0m \u001b[0;34m\u001b[0m\u001b[0m\n\u001b[1;32m   1619\u001b[0m         \u001b[0mself\u001b[0m\u001b[0;34m.\u001b[0m\u001b[0mhandles\u001b[0m\u001b[0;34m:\u001b[0m \u001b[0mIOHandles\u001b[0m \u001b[0;34m|\u001b[0m \u001b[0;32mNone\u001b[0m \u001b[0;34m=\u001b[0m \u001b[0;32mNone\u001b[0m\u001b[0;34m\u001b[0m\u001b[0;34m\u001b[0m\u001b[0m\n\u001b[0;32m-> 1620\u001b[0;31m         \u001b[0mself\u001b[0m\u001b[0;34m.\u001b[0m\u001b[0m_engine\u001b[0m \u001b[0;34m=\u001b[0m \u001b[0mself\u001b[0m\u001b[0;34m.\u001b[0m\u001b[0m_make_engine\u001b[0m\u001b[0;34m(\u001b[0m\u001b[0mf\u001b[0m\u001b[0;34m,\u001b[0m \u001b[0mself\u001b[0m\u001b[0;34m.\u001b[0m\u001b[0mengine\u001b[0m\u001b[0;34m)\u001b[0m\u001b[0;34m\u001b[0m\u001b[0;34m\u001b[0m\u001b[0m\n\u001b[0m\u001b[1;32m   1621\u001b[0m \u001b[0;34m\u001b[0m\u001b[0m\n\u001b[1;32m   1622\u001b[0m     \u001b[0;32mdef\u001b[0m \u001b[0mclose\u001b[0m\u001b[0;34m(\u001b[0m\u001b[0mself\u001b[0m\u001b[0;34m)\u001b[0m \u001b[0;34m->\u001b[0m \u001b[0;32mNone\u001b[0m\u001b[0;34m:\u001b[0m\u001b[0;34m\u001b[0m\u001b[0;34m\u001b[0m\u001b[0m\n",
            "\u001b[0;32m/usr/local/lib/python3.11/dist-packages/pandas/io/parsers/readers.py\u001b[0m in \u001b[0;36m_make_engine\u001b[0;34m(self, f, engine)\u001b[0m\n\u001b[1;32m   1878\u001b[0m                 \u001b[0;32mif\u001b[0m \u001b[0;34m\"b\"\u001b[0m \u001b[0;32mnot\u001b[0m \u001b[0;32min\u001b[0m \u001b[0mmode\u001b[0m\u001b[0;34m:\u001b[0m\u001b[0;34m\u001b[0m\u001b[0;34m\u001b[0m\u001b[0m\n\u001b[1;32m   1879\u001b[0m                     \u001b[0mmode\u001b[0m \u001b[0;34m+=\u001b[0m \u001b[0;34m\"b\"\u001b[0m\u001b[0;34m\u001b[0m\u001b[0;34m\u001b[0m\u001b[0m\n\u001b[0;32m-> 1880\u001b[0;31m             self.handles = get_handle(\n\u001b[0m\u001b[1;32m   1881\u001b[0m                 \u001b[0mf\u001b[0m\u001b[0;34m,\u001b[0m\u001b[0;34m\u001b[0m\u001b[0;34m\u001b[0m\u001b[0m\n\u001b[1;32m   1882\u001b[0m                 \u001b[0mmode\u001b[0m\u001b[0;34m,\u001b[0m\u001b[0;34m\u001b[0m\u001b[0;34m\u001b[0m\u001b[0m\n",
            "\u001b[0;32m/usr/local/lib/python3.11/dist-packages/pandas/io/common.py\u001b[0m in \u001b[0;36mget_handle\u001b[0;34m(path_or_buf, mode, encoding, compression, memory_map, is_text, errors, storage_options)\u001b[0m\n\u001b[1;32m    871\u001b[0m         \u001b[0;32mif\u001b[0m \u001b[0mioargs\u001b[0m\u001b[0;34m.\u001b[0m\u001b[0mencoding\u001b[0m \u001b[0;32mand\u001b[0m \u001b[0;34m\"b\"\u001b[0m \u001b[0;32mnot\u001b[0m \u001b[0;32min\u001b[0m \u001b[0mioargs\u001b[0m\u001b[0;34m.\u001b[0m\u001b[0mmode\u001b[0m\u001b[0;34m:\u001b[0m\u001b[0;34m\u001b[0m\u001b[0;34m\u001b[0m\u001b[0m\n\u001b[1;32m    872\u001b[0m             \u001b[0;31m# Encoding\u001b[0m\u001b[0;34m\u001b[0m\u001b[0;34m\u001b[0m\u001b[0m\n\u001b[0;32m--> 873\u001b[0;31m             handle = open(\n\u001b[0m\u001b[1;32m    874\u001b[0m                 \u001b[0mhandle\u001b[0m\u001b[0;34m,\u001b[0m\u001b[0;34m\u001b[0m\u001b[0;34m\u001b[0m\u001b[0m\n\u001b[1;32m    875\u001b[0m                 \u001b[0mioargs\u001b[0m\u001b[0;34m.\u001b[0m\u001b[0mmode\u001b[0m\u001b[0;34m,\u001b[0m\u001b[0;34m\u001b[0m\u001b[0;34m\u001b[0m\u001b[0m\n",
            "\u001b[0;31mFileNotFoundError\u001b[0m: [Errno 2] No such file or directory: 'train_test_network.csv'"
          ]
        }
      ],
      "source": [
        " # 3.1) Import data from CoLab\n",
        "\n",
        "df = pd.read_csv('train_test_network.csv')\n",
        "df.head()"
      ]
    },
    {
      "cell_type": "code",
      "execution_count": null,
      "metadata": {
        "id": "seM6kGBQdSMp"
      },
      "outputs": [],
      "source": [
        "# 3.2) Import data from Google Drive. First mount it\n",
        "from google.colab import drive\n",
        "drive.mount('/content/drive')"
      ]
    },
    {
      "cell_type": "code",
      "execution_count": null,
      "metadata": {
        "colab": {
          "base_uri": "https://localhost:8080/",
          "height": 255
        },
        "id": "5rWVikmYY0vk",
        "outputId": "aff2f0b4-4665-4616-9f4a-80671953cd10"
      },
      "outputs": [
        {
          "output_type": "execute_result",
          "data": {
            "text/plain": [
              "          src_ip  src_port         dst_ip  dst_port proto service    duration  \\\n",
              "0   192.168.1.37      4444  192.168.1.193     49178   tcp       -  290.371539   \n",
              "1  192.168.1.193     49180   192.168.1.37      8080   tcp       -    0.000102   \n",
              "2  192.168.1.193     49180   192.168.1.37      8080   tcp       -    0.000148   \n",
              "3  192.168.1.193     49180   192.168.1.37      8080   tcp       -    0.000113   \n",
              "4  192.168.1.193     49180   192.168.1.37      8080   tcp       -    0.000130   \n",
              "\n",
              "   src_bytes  dst_bytes conn_state  ...  http_response_body_len  \\\n",
              "0     101568       2592        OTH  ...                       0   \n",
              "1          0          0        REJ  ...                       0   \n",
              "2          0          0        REJ  ...                       0   \n",
              "3          0          0        REJ  ...                       0   \n",
              "4          0          0        REJ  ...                       0   \n",
              "\n",
              "   http_status_code  http_user_agent  http_orig_mime_types  \\\n",
              "0                 0                -                     -   \n",
              "1                 0                -                     -   \n",
              "2                 0                -                     -   \n",
              "3                 0                -                     -   \n",
              "4                 0                -                     -   \n",
              "\n",
              "   http_resp_mime_types weird_name  weird_addl  weird_notice  label      type  \n",
              "0                     -          -           -             -      1  backdoor  \n",
              "1                     -          -           -             -      1  backdoor  \n",
              "2                     -          -           -             -      1  backdoor  \n",
              "3                     -          -           -             -      1  backdoor  \n",
              "4                     -          -           -             -      1  backdoor  \n",
              "\n",
              "[5 rows x 44 columns]"
            ],
            "text/html": [
              "\n",
              "  <div id=\"df-c6458d16-29a7-45fe-9e4c-cf40003c292b\" class=\"colab-df-container\">\n",
              "    <div>\n",
              "<style scoped>\n",
              "    .dataframe tbody tr th:only-of-type {\n",
              "        vertical-align: middle;\n",
              "    }\n",
              "\n",
              "    .dataframe tbody tr th {\n",
              "        vertical-align: top;\n",
              "    }\n",
              "\n",
              "    .dataframe thead th {\n",
              "        text-align: right;\n",
              "    }\n",
              "</style>\n",
              "<table border=\"1\" class=\"dataframe\">\n",
              "  <thead>\n",
              "    <tr style=\"text-align: right;\">\n",
              "      <th></th>\n",
              "      <th>src_ip</th>\n",
              "      <th>src_port</th>\n",
              "      <th>dst_ip</th>\n",
              "      <th>dst_port</th>\n",
              "      <th>proto</th>\n",
              "      <th>service</th>\n",
              "      <th>duration</th>\n",
              "      <th>src_bytes</th>\n",
              "      <th>dst_bytes</th>\n",
              "      <th>conn_state</th>\n",
              "      <th>...</th>\n",
              "      <th>http_response_body_len</th>\n",
              "      <th>http_status_code</th>\n",
              "      <th>http_user_agent</th>\n",
              "      <th>http_orig_mime_types</th>\n",
              "      <th>http_resp_mime_types</th>\n",
              "      <th>weird_name</th>\n",
              "      <th>weird_addl</th>\n",
              "      <th>weird_notice</th>\n",
              "      <th>label</th>\n",
              "      <th>type</th>\n",
              "    </tr>\n",
              "  </thead>\n",
              "  <tbody>\n",
              "    <tr>\n",
              "      <th>0</th>\n",
              "      <td>192.168.1.37</td>\n",
              "      <td>4444</td>\n",
              "      <td>192.168.1.193</td>\n",
              "      <td>49178</td>\n",
              "      <td>tcp</td>\n",
              "      <td>-</td>\n",
              "      <td>290.371539</td>\n",
              "      <td>101568</td>\n",
              "      <td>2592</td>\n",
              "      <td>OTH</td>\n",
              "      <td>...</td>\n",
              "      <td>0</td>\n",
              "      <td>0</td>\n",
              "      <td>-</td>\n",
              "      <td>-</td>\n",
              "      <td>-</td>\n",
              "      <td>-</td>\n",
              "      <td>-</td>\n",
              "      <td>-</td>\n",
              "      <td>1</td>\n",
              "      <td>backdoor</td>\n",
              "    </tr>\n",
              "    <tr>\n",
              "      <th>1</th>\n",
              "      <td>192.168.1.193</td>\n",
              "      <td>49180</td>\n",
              "      <td>192.168.1.37</td>\n",
              "      <td>8080</td>\n",
              "      <td>tcp</td>\n",
              "      <td>-</td>\n",
              "      <td>0.000102</td>\n",
              "      <td>0</td>\n",
              "      <td>0</td>\n",
              "      <td>REJ</td>\n",
              "      <td>...</td>\n",
              "      <td>0</td>\n",
              "      <td>0</td>\n",
              "      <td>-</td>\n",
              "      <td>-</td>\n",
              "      <td>-</td>\n",
              "      <td>-</td>\n",
              "      <td>-</td>\n",
              "      <td>-</td>\n",
              "      <td>1</td>\n",
              "      <td>backdoor</td>\n",
              "    </tr>\n",
              "    <tr>\n",
              "      <th>2</th>\n",
              "      <td>192.168.1.193</td>\n",
              "      <td>49180</td>\n",
              "      <td>192.168.1.37</td>\n",
              "      <td>8080</td>\n",
              "      <td>tcp</td>\n",
              "      <td>-</td>\n",
              "      <td>0.000148</td>\n",
              "      <td>0</td>\n",
              "      <td>0</td>\n",
              "      <td>REJ</td>\n",
              "      <td>...</td>\n",
              "      <td>0</td>\n",
              "      <td>0</td>\n",
              "      <td>-</td>\n",
              "      <td>-</td>\n",
              "      <td>-</td>\n",
              "      <td>-</td>\n",
              "      <td>-</td>\n",
              "      <td>-</td>\n",
              "      <td>1</td>\n",
              "      <td>backdoor</td>\n",
              "    </tr>\n",
              "    <tr>\n",
              "      <th>3</th>\n",
              "      <td>192.168.1.193</td>\n",
              "      <td>49180</td>\n",
              "      <td>192.168.1.37</td>\n",
              "      <td>8080</td>\n",
              "      <td>tcp</td>\n",
              "      <td>-</td>\n",
              "      <td>0.000113</td>\n",
              "      <td>0</td>\n",
              "      <td>0</td>\n",
              "      <td>REJ</td>\n",
              "      <td>...</td>\n",
              "      <td>0</td>\n",
              "      <td>0</td>\n",
              "      <td>-</td>\n",
              "      <td>-</td>\n",
              "      <td>-</td>\n",
              "      <td>-</td>\n",
              "      <td>-</td>\n",
              "      <td>-</td>\n",
              "      <td>1</td>\n",
              "      <td>backdoor</td>\n",
              "    </tr>\n",
              "    <tr>\n",
              "      <th>4</th>\n",
              "      <td>192.168.1.193</td>\n",
              "      <td>49180</td>\n",
              "      <td>192.168.1.37</td>\n",
              "      <td>8080</td>\n",
              "      <td>tcp</td>\n",
              "      <td>-</td>\n",
              "      <td>0.000130</td>\n",
              "      <td>0</td>\n",
              "      <td>0</td>\n",
              "      <td>REJ</td>\n",
              "      <td>...</td>\n",
              "      <td>0</td>\n",
              "      <td>0</td>\n",
              "      <td>-</td>\n",
              "      <td>-</td>\n",
              "      <td>-</td>\n",
              "      <td>-</td>\n",
              "      <td>-</td>\n",
              "      <td>-</td>\n",
              "      <td>1</td>\n",
              "      <td>backdoor</td>\n",
              "    </tr>\n",
              "  </tbody>\n",
              "</table>\n",
              "<p>5 rows × 44 columns</p>\n",
              "</div>\n",
              "    <div class=\"colab-df-buttons\">\n",
              "\n",
              "  <div class=\"colab-df-container\">\n",
              "    <button class=\"colab-df-convert\" onclick=\"convertToInteractive('df-c6458d16-29a7-45fe-9e4c-cf40003c292b')\"\n",
              "            title=\"Convert this dataframe to an interactive table.\"\n",
              "            style=\"display:none;\">\n",
              "\n",
              "  <svg xmlns=\"http://www.w3.org/2000/svg\" height=\"24px\" viewBox=\"0 -960 960 960\">\n",
              "    <path d=\"M120-120v-720h720v720H120Zm60-500h600v-160H180v160Zm220 220h160v-160H400v160Zm0 220h160v-160H400v160ZM180-400h160v-160H180v160Zm440 0h160v-160H620v160ZM180-180h160v-160H180v160Zm440 0h160v-160H620v160Z\"/>\n",
              "  </svg>\n",
              "    </button>\n",
              "\n",
              "  <style>\n",
              "    .colab-df-container {\n",
              "      display:flex;\n",
              "      gap: 12px;\n",
              "    }\n",
              "\n",
              "    .colab-df-convert {\n",
              "      background-color: #E8F0FE;\n",
              "      border: none;\n",
              "      border-radius: 50%;\n",
              "      cursor: pointer;\n",
              "      display: none;\n",
              "      fill: #1967D2;\n",
              "      height: 32px;\n",
              "      padding: 0 0 0 0;\n",
              "      width: 32px;\n",
              "    }\n",
              "\n",
              "    .colab-df-convert:hover {\n",
              "      background-color: #E2EBFA;\n",
              "      box-shadow: 0px 1px 2px rgba(60, 64, 67, 0.3), 0px 1px 3px 1px rgba(60, 64, 67, 0.15);\n",
              "      fill: #174EA6;\n",
              "    }\n",
              "\n",
              "    .colab-df-buttons div {\n",
              "      margin-bottom: 4px;\n",
              "    }\n",
              "\n",
              "    [theme=dark] .colab-df-convert {\n",
              "      background-color: #3B4455;\n",
              "      fill: #D2E3FC;\n",
              "    }\n",
              "\n",
              "    [theme=dark] .colab-df-convert:hover {\n",
              "      background-color: #434B5C;\n",
              "      box-shadow: 0px 1px 3px 1px rgba(0, 0, 0, 0.15);\n",
              "      filter: drop-shadow(0px 1px 2px rgba(0, 0, 0, 0.3));\n",
              "      fill: #FFFFFF;\n",
              "    }\n",
              "  </style>\n",
              "\n",
              "    <script>\n",
              "      const buttonEl =\n",
              "        document.querySelector('#df-c6458d16-29a7-45fe-9e4c-cf40003c292b button.colab-df-convert');\n",
              "      buttonEl.style.display =\n",
              "        google.colab.kernel.accessAllowed ? 'block' : 'none';\n",
              "\n",
              "      async function convertToInteractive(key) {\n",
              "        const element = document.querySelector('#df-c6458d16-29a7-45fe-9e4c-cf40003c292b');\n",
              "        const dataTable =\n",
              "          await google.colab.kernel.invokeFunction('convertToInteractive',\n",
              "                                                    [key], {});\n",
              "        if (!dataTable) return;\n",
              "\n",
              "        const docLinkHtml = 'Like what you see? Visit the ' +\n",
              "          '<a target=\"_blank\" href=https://colab.research.google.com/notebooks/data_table.ipynb>data table notebook</a>'\n",
              "          + ' to learn more about interactive tables.';\n",
              "        element.innerHTML = '';\n",
              "        dataTable['output_type'] = 'display_data';\n",
              "        await google.colab.output.renderOutput(dataTable, element);\n",
              "        const docLink = document.createElement('div');\n",
              "        docLink.innerHTML = docLinkHtml;\n",
              "        element.appendChild(docLink);\n",
              "      }\n",
              "    </script>\n",
              "  </div>\n",
              "\n",
              "\n",
              "    <div id=\"df-bbdcfa55-3098-45d5-8e27-97a768614d65\">\n",
              "      <button class=\"colab-df-quickchart\" onclick=\"quickchart('df-bbdcfa55-3098-45d5-8e27-97a768614d65')\"\n",
              "                title=\"Suggest charts\"\n",
              "                style=\"display:none;\">\n",
              "\n",
              "<svg xmlns=\"http://www.w3.org/2000/svg\" height=\"24px\"viewBox=\"0 0 24 24\"\n",
              "     width=\"24px\">\n",
              "    <g>\n",
              "        <path d=\"M19 3H5c-1.1 0-2 .9-2 2v14c0 1.1.9 2 2 2h14c1.1 0 2-.9 2-2V5c0-1.1-.9-2-2-2zM9 17H7v-7h2v7zm4 0h-2V7h2v10zm4 0h-2v-4h2v4z\"/>\n",
              "    </g>\n",
              "</svg>\n",
              "      </button>\n",
              "\n",
              "<style>\n",
              "  .colab-df-quickchart {\n",
              "      --bg-color: #E8F0FE;\n",
              "      --fill-color: #1967D2;\n",
              "      --hover-bg-color: #E2EBFA;\n",
              "      --hover-fill-color: #174EA6;\n",
              "      --disabled-fill-color: #AAA;\n",
              "      --disabled-bg-color: #DDD;\n",
              "  }\n",
              "\n",
              "  [theme=dark] .colab-df-quickchart {\n",
              "      --bg-color: #3B4455;\n",
              "      --fill-color: #D2E3FC;\n",
              "      --hover-bg-color: #434B5C;\n",
              "      --hover-fill-color: #FFFFFF;\n",
              "      --disabled-bg-color: #3B4455;\n",
              "      --disabled-fill-color: #666;\n",
              "  }\n",
              "\n",
              "  .colab-df-quickchart {\n",
              "    background-color: var(--bg-color);\n",
              "    border: none;\n",
              "    border-radius: 50%;\n",
              "    cursor: pointer;\n",
              "    display: none;\n",
              "    fill: var(--fill-color);\n",
              "    height: 32px;\n",
              "    padding: 0;\n",
              "    width: 32px;\n",
              "  }\n",
              "\n",
              "  .colab-df-quickchart:hover {\n",
              "    background-color: var(--hover-bg-color);\n",
              "    box-shadow: 0 1px 2px rgba(60, 64, 67, 0.3), 0 1px 3px 1px rgba(60, 64, 67, 0.15);\n",
              "    fill: var(--button-hover-fill-color);\n",
              "  }\n",
              "\n",
              "  .colab-df-quickchart-complete:disabled,\n",
              "  .colab-df-quickchart-complete:disabled:hover {\n",
              "    background-color: var(--disabled-bg-color);\n",
              "    fill: var(--disabled-fill-color);\n",
              "    box-shadow: none;\n",
              "  }\n",
              "\n",
              "  .colab-df-spinner {\n",
              "    border: 2px solid var(--fill-color);\n",
              "    border-color: transparent;\n",
              "    border-bottom-color: var(--fill-color);\n",
              "    animation:\n",
              "      spin 1s steps(1) infinite;\n",
              "  }\n",
              "\n",
              "  @keyframes spin {\n",
              "    0% {\n",
              "      border-color: transparent;\n",
              "      border-bottom-color: var(--fill-color);\n",
              "      border-left-color: var(--fill-color);\n",
              "    }\n",
              "    20% {\n",
              "      border-color: transparent;\n",
              "      border-left-color: var(--fill-color);\n",
              "      border-top-color: var(--fill-color);\n",
              "    }\n",
              "    30% {\n",
              "      border-color: transparent;\n",
              "      border-left-color: var(--fill-color);\n",
              "      border-top-color: var(--fill-color);\n",
              "      border-right-color: var(--fill-color);\n",
              "    }\n",
              "    40% {\n",
              "      border-color: transparent;\n",
              "      border-right-color: var(--fill-color);\n",
              "      border-top-color: var(--fill-color);\n",
              "    }\n",
              "    60% {\n",
              "      border-color: transparent;\n",
              "      border-right-color: var(--fill-color);\n",
              "    }\n",
              "    80% {\n",
              "      border-color: transparent;\n",
              "      border-right-color: var(--fill-color);\n",
              "      border-bottom-color: var(--fill-color);\n",
              "    }\n",
              "    90% {\n",
              "      border-color: transparent;\n",
              "      border-bottom-color: var(--fill-color);\n",
              "    }\n",
              "  }\n",
              "</style>\n",
              "\n",
              "      <script>\n",
              "        async function quickchart(key) {\n",
              "          const quickchartButtonEl =\n",
              "            document.querySelector('#' + key + ' button');\n",
              "          quickchartButtonEl.disabled = true;  // To prevent multiple clicks.\n",
              "          quickchartButtonEl.classList.add('colab-df-spinner');\n",
              "          try {\n",
              "            const charts = await google.colab.kernel.invokeFunction(\n",
              "                'suggestCharts', [key], {});\n",
              "          } catch (error) {\n",
              "            console.error('Error during call to suggestCharts:', error);\n",
              "          }\n",
              "          quickchartButtonEl.classList.remove('colab-df-spinner');\n",
              "          quickchartButtonEl.classList.add('colab-df-quickchart-complete');\n",
              "        }\n",
              "        (() => {\n",
              "          let quickchartButtonEl =\n",
              "            document.querySelector('#df-bbdcfa55-3098-45d5-8e27-97a768614d65 button');\n",
              "          quickchartButtonEl.style.display =\n",
              "            google.colab.kernel.accessAllowed ? 'block' : 'none';\n",
              "        })();\n",
              "      </script>\n",
              "    </div>\n",
              "\n",
              "    </div>\n",
              "  </div>\n"
            ],
            "application/vnd.google.colaboratory.intrinsic+json": {
              "type": "dataframe",
              "variable_name": "df"
            }
          },
          "metadata": {},
          "execution_count": 4
        }
      ],
      "source": [
        "# Read data after mounting Google Drive\n",
        "df = pd.read_csv('/content/drive/MyDrive/Colab Notebooks/train_test_network.csv')\n",
        "df.head()"
      ]
    },
    {
      "cell_type": "code",
      "execution_count": null,
      "metadata": {
        "colab": {
          "base_uri": "https://localhost:8080/"
        },
        "id": "eUYlFHSI88Ok",
        "outputId": "499b671f-4a79-4192-8d9e-fb326f12d777"
      },
      "outputs": [
        {
          "data": {
            "text/plain": [
              "(211043, 44)"
            ]
          },
          "execution_count": 11,
          "metadata": {},
          "output_type": "execute_result"
        }
      ],
      "source": [
        "df.shape"
      ]
    },
    {
      "cell_type": "markdown",
      "metadata": {
        "id": "o-Fk32qOhOFc"
      },
      "source": [
        "* Step 4) Suppose, our idea is to mitigate ransomware after looking the data.\n",
        "\n",
        "4.1) We need to understant our idea from existing works. We\n",
        "can find many articles on Google Scholar-\n",
        "Link: https://scholar.google.com/\n",
        "\n",
        "4.2) **Download** few related papers to understand current works, for example:\n",
        "\n",
        "* i) Review Paper- Internet of things and ransomware: Evolution, mitigation and prevention, 2021\n",
        "\n",
        "* ii) Review Paper- Ransomware Detection, Avoidance, and Mitigation Scheme: A Review and Future Directions, 2021\n",
        "\n",
        "* iii) Review Paper- Ransomware Detection Using Machine Learning: A Survey, 2023\n",
        "\n",
        "* iv) Review Paper- Ransomware Reloaded: Re-examining Its Trend, Research and Mitigation in the Era of Data Exfiltration, 2024\n",
        "\n",
        "Note: Where and how to write the related works? We can use **Latex** File."
      ]
    },
    {
      "cell_type": "code",
      "execution_count": null,
      "metadata": {
        "colab": {
          "base_uri": "https://localhost:8080/",
          "height": 146
        },
        "id": "iK1_WXAH-0rs",
        "outputId": "61d82f89-eece-41b9-81ee-69ce196eabf8"
      },
      "outputs": [
        {
          "output_type": "error",
          "ename": "NameError",
          "evalue": "name 'df' is not defined",
          "traceback": [
            "\u001b[0;31m---------------------------------------------------------------------------\u001b[0m",
            "\u001b[0;31mNameError\u001b[0m                                 Traceback (most recent call last)",
            "\u001b[0;32m<ipython-input-3-d6b629113183>\u001b[0m in \u001b[0;36m<cell line: 0>\u001b[0;34m()\u001b[0m\n\u001b[0;32m----> 1\u001b[0;31m \u001b[0mdf\u001b[0m\u001b[0;34m[\u001b[0m\u001b[0;34m'type'\u001b[0m\u001b[0;34m]\u001b[0m\u001b[0;34m.\u001b[0m\u001b[0mvalue_counts\u001b[0m\u001b[0;34m(\u001b[0m\u001b[0;34m)\u001b[0m\u001b[0;34m\u001b[0m\u001b[0;34m\u001b[0m\u001b[0m\n\u001b[0m",
            "\u001b[0;31mNameError\u001b[0m: name 'df' is not defined"
          ]
        }
      ],
      "source": [
        "df['type'].value_counts()"
      ]
    },
    {
      "cell_type": "code",
      "execution_count": null,
      "metadata": {
        "id": "MToTq8cjYeNn"
      },
      "outputs": [],
      "source": []
    },
    {
      "cell_type": "code",
      "execution_count": null,
      "metadata": {
        "id": "JKSpzG1Mmzkg"
      },
      "outputs": [],
      "source": []
    },
    {
      "cell_type": "markdown",
      "source": [],
      "metadata": {
        "id": "LEqt79CKUNON"
      }
    },
    {
      "cell_type": "code",
      "source": [],
      "metadata": {
        "id": "qsI_Kusy2umY"
      },
      "execution_count": null,
      "outputs": []
    },
    {
      "cell_type": "markdown",
      "metadata": {
        "id": "UgBDbajzmycl"
      },
      "source": [
        "* Step 5) How to write our idea and its related works? Use Latex on Overleaf:\n",
        "https://www.overleaf.com\n",
        "\n",
        "* Step 6) Learning Latex:\n",
        "\n",
        "i) How to create sections, such as Abstract, Introduction, Related Works, Methodology, Results, Conclusion and Future Directions.\n",
        "\n",
        "ii) How to include refernce numbers\n",
        "\n",
        "iii) How to add Tables\n",
        "\n",
        "iv) How to add Figures\n",
        "\n",
        "v) How to draw and import figures into Overleaf? We can do using MS Word-> Insert -> SmartArt\n",
        "\n",
        "**Idea-** Find out the impact of Ransomware and Phishing attacks in the USA dollar after studying different research articles/news/papers with proper references- show a year-wise financial loss.\n",
        "\n",
        "**share with me->** sumitkumar.fca@kiit.ac.in\n"
      ]
    },
    {
      "cell_type": "code",
      "execution_count": null,
      "metadata": {
        "id": "_AmveOEGn124"
      },
      "outputs": [],
      "source": []
    },
    {
      "cell_type": "markdown",
      "metadata": {
        "id": "HJIpq5EtXTXb"
      },
      "source": [
        "Revision:\n",
        "\n",
        "* We know how to generate and write our idea.\n",
        "* Now, we learn how to implement out idea using Python.\n",
        "\n",
        "**Day 1, Session 2:**\n",
        "\n",
        "* Step 7) Understanding Data Types in Python: String, Tuple, List, Set, Dictionary, etc."
      ]
    },
    {
      "cell_type": "markdown",
      "source": [
        "# Lab 2 (22/07/25)"
      ],
      "metadata": {
        "id": "S92vMXmAxTuR"
      }
    },
    {
      "cell_type": "code",
      "execution_count": null,
      "metadata": {
        "colab": {
          "base_uri": "https://localhost:8080/",
          "height": 36
        },
        "id": "HiYlOzwScxWd",
        "outputId": "e06a7ce1-dd27-4a5b-d705-a18e00e748ac"
      },
      "outputs": [
        {
          "output_type": "execute_result",
          "data": {
            "text/plain": [
              "'kiit university'"
            ],
            "application/vnd.google.colaboratory.intrinsic+json": {
              "type": "string"
            }
          },
          "metadata": {},
          "execution_count": 4
        }
      ],
      "source": [
        "# String\n",
        "string = 'kiit university'\n",
        "string"
      ]
    },
    {
      "cell_type": "code",
      "execution_count": null,
      "metadata": {
        "colab": {
          "base_uri": "https://localhost:8080/"
        },
        "id": "CYIOtUALfBrQ",
        "outputId": "537d770b-05d5-455a-888c-79feb76007bb"
      },
      "outputs": [
        {
          "name": "stdout",
          "output_type": "stream",
          "text": [
            "kiit university,india\n"
          ]
        }
      ],
      "source": [
        "# Concatenate\n",
        "concate= 'kiit university' + ',' + 'india'\n",
        "print(concate)"
      ]
    },
    {
      "cell_type": "code",
      "execution_count": null,
      "metadata": {
        "colab": {
          "base_uri": "https://localhost:8080/",
          "height": 36
        },
        "id": "VcyW4VNNgAMQ",
        "outputId": "a4dc3c4a-de1b-4d8c-f291-35ed99e66651"
      },
      "outputs": [
        {
          "data": {
            "application/vnd.google.colaboratory.intrinsic+json": {
              "type": "string"
            },
            "text/plain": [
              "'kiit universitykiit universitykiit university'"
            ]
          },
          "metadata": {},
          "output_type": "display_data"
        }
      ],
      "source": [
        "# Repeat 4 times\n",
        "display(string*3)"
      ]
    },
    {
      "cell_type": "code",
      "execution_count": null,
      "metadata": {
        "colab": {
          "base_uri": "https://localhost:8080/"
        },
        "id": "kN3EtMW2hzLU",
        "outputId": "4dfbcc20-ffc8-4767-c618-0fd8a8c5ee6e"
      },
      "outputs": [
        {
          "name": "stdout",
          "output_type": "stream",
          "text": [
            "kiit university bhubaneswar - 751024. kiit university bhubaneswar - 751024. kiit university bhubaneswar - 751024. \n"
          ]
        }
      ],
      "source": [
        "# Using an f-string\n",
        "pin= 751024\n",
        "repeated_string = (f\"{string} bhubaneswar - {pin}. \" * 3)#.strip()  # Repeat 4 times with spaces\n",
        "print(repeated_string)  # Output: World World World World"
      ]
    },
    {
      "cell_type": "code",
      "execution_count": null,
      "metadata": {
        "colab": {
          "base_uri": "https://localhost:8080/"
        },
        "id": "Ymwy_AY0fxJL",
        "outputId": "1753e4d9-746d-4359-8d97-e7a3f0b185d3"
      },
      "outputs": [
        {
          "name": "stdout",
          "output_type": "stream",
          "text": [
            "First character is k, whereas \n",
            " last is y using -1 index.\n"
          ]
        }
      ],
      "source": [
        "# Indexing\n",
        "# First character has index 0\n",
        "# Negative indices start counting from the right\n",
        "# “index out of range” error\n",
        "print(f\"First character is {string[0]}, whereas \\n last is {string[-1]} using -1 index.\")"
      ]
    },
    {
      "cell_type": "markdown",
      "source": [],
      "metadata": {
        "id": "eY3mjWmBgYoK"
      }
    },
    {
      "cell_type": "code",
      "execution_count": null,
      "metadata": {
        "colab": {
          "base_uri": "https://localhost:8080/"
        },
        "id": "P-rg_T6R90Co",
        "outputId": "e99f1c0d-11f1-4028-90e2-251df040034c"
      },
      "outputs": [
        {
          "data": {
            "text/plain": [
              "15"
            ]
          },
          "execution_count": 18,
          "metadata": {},
          "output_type": "execute_result"
        }
      ],
      "source": [
        "len(string)"
      ]
    },
    {
      "cell_type": "code",
      "execution_count": null,
      "metadata": {
        "colab": {
          "base_uri": "https://localhost:8080/",
          "height": 156
        },
        "id": "uN4Qt_M1-GIO",
        "outputId": "e4443874-89d5-4206-fe33-862a761b6be0"
      },
      "outputs": [
        {
          "output_type": "error",
          "ename": "NameError",
          "evalue": "name 'string' is not defined",
          "traceback": [
            "\u001b[0;31m---------------------------------------------------------------------------\u001b[0m",
            "\u001b[0;31mNameError\u001b[0m                                 Traceback (most recent call last)",
            "\u001b[0;32m<ipython-input-2-e4779e381385>\u001b[0m in \u001b[0;36m<cell line: 0>\u001b[0;34m()\u001b[0m\n\u001b[1;32m      1\u001b[0m \u001b[0;31m# Out of range error due to index more than length of the string\u001b[0m\u001b[0;34m\u001b[0m\u001b[0;34m\u001b[0m\u001b[0m\n\u001b[0;32m----> 2\u001b[0;31m \u001b[0mstring\u001b[0m\u001b[0;34m[\u001b[0m\u001b[0;36m15\u001b[0m\u001b[0;34m]\u001b[0m\u001b[0;34m\u001b[0m\u001b[0;34m\u001b[0m\u001b[0m\n\u001b[0m",
            "\u001b[0;31mNameError\u001b[0m: name 'string' is not defined"
          ]
        }
      ],
      "source": [
        "# Out of range error due to index more than length of the string\n",
        "string[15]"
      ]
    },
    {
      "cell_type": "code",
      "execution_count": null,
      "metadata": {
        "colab": {
          "base_uri": "https://localhost:8080/",
          "height": 35
        },
        "id": "zePXV2Lw-wK4",
        "outputId": "17f57dad-a8e7-4c59-c71d-b0e0a4058c7f"
      },
      "outputs": [
        {
          "output_type": "execute_result",
          "data": {
            "text/plain": [
              "'iit'"
            ],
            "application/vnd.google.colaboratory.intrinsic+json": {
              "type": "string"
            }
          },
          "metadata": {},
          "execution_count": 2
        }
      ],
      "source": [
        "# Slicing-\n",
        "# string[start:end:step] means substring of string starting at index (start) and ending at index (end-1).\n",
        "# Here, Step (by default=1) is optinal, which indicates interval.\n",
        "# string[:] is same as string[0:len(string)], that is same as 'string'.\n",
        "\n",
        "string = 'kiit university'\n",
        "string[1:4]\n"
      ]
    },
    {
      "cell_type": "code",
      "execution_count": null,
      "metadata": {
        "colab": {
          "base_uri": "https://localhost:8080/",
          "height": 36
        },
        "id": "6FtnmUmYApIS",
        "outputId": "957b49c5-ef56-47d7-b095-866fd3300a0a"
      },
      "outputs": [
        {
          "data": {
            "application/vnd.google.colaboratory.intrinsic+json": {
              "type": "string"
            },
            "text/plain": [
              "''"
            ]
          },
          "execution_count": 18,
          "metadata": {},
          "output_type": "execute_result"
        }
      ],
      "source": [
        "# Slicing has no \"out of range error,\" but print blank if not in the range.\n",
        "string[15:50]"
      ]
    },
    {
      "cell_type": "code",
      "execution_count": null,
      "metadata": {
        "colab": {
          "base_uri": "https://localhost:8080/"
        },
        "id": "dvaF7Lk0e1_U",
        "outputId": "841b6647-b233-4368-b595-c1b40345ce61"
      },
      "outputs": [
        {
          "name": "stdout",
          "output_type": "stream",
          "text": [
            " string[-5:-1] = 'rsit'\n",
            " string[-1:-5] =  ' '\n",
            " Why?\n"
          ]
        }
      ],
      "source": [
        "# Slicing- Understanding the range\n",
        "print(f\" string[-5:-1] = '{string[-5:-1]}'\\n string[-1:-5] = {string[-1:-5]} ' '\\n Why?\")"
      ]
    },
    {
      "cell_type": "code",
      "execution_count": null,
      "metadata": {
        "colab": {
          "base_uri": "https://localhost:8080/",
          "height": 217
        },
        "id": "sDtXx7OuQ98G",
        "outputId": "dad37c88-fe56-4c2d-d79a-457e5d92e8bb"
      },
      "outputs": [
        {
          "data": {
            "image/png": "[encoded data removed]",
            "text/plain": [
              "<IPython.core.display.Image object>"
            ]
          },
          "execution_count": 6,
          "metadata": {
            "image/png": {
              "height": 200,
              "width": 400
            }
          },
          "output_type": "execute_result"
        }
      ],
      "source": [
        "from IPython.display import Image\n",
        "Image('slice_.png', width=400, height=200)"
      ]
    },
    {
      "cell_type": "code",
      "execution_count": null,
      "metadata": {
        "colab": {
          "base_uri": "https://localhost:8080/",
          "height": 35
        },
        "id": "y9t80nSKQ9t2",
        "outputId": "8fb0f379-9054-42fc-f397-7d8bbd67bfb6"
      },
      "outputs": [
        {
          "output_type": "execute_result",
          "data": {
            "text/plain": [
              "'gnirt'"
            ],
            "application/vnd.google.colaboratory.intrinsic+json": {
              "type": "string"
            }
          },
          "metadata": {},
          "execution_count": 4
        }
      ],
      "source": [
        "string2 = 'Sum'\n",
        "# string2[-5:-1]\n",
        "string2[-1:-6:-1]"
      ]
    },
    {
      "cell_type": "code",
      "execution_count": null,
      "metadata": {
        "colab": {
          "base_uri": "https://localhost:8080/",
          "height": 35
        },
        "id": "9W6-_-KKsXhq",
        "outputId": "3c0f23f6-70ec-42b3-a8a0-8dedbf2d9a8a"
      },
      "outputs": [
        {
          "data": {
            "application/vnd.google.colaboratory.intrinsic+json": {
              "type": "string"
            },
            "text/plain": [
              "'tmS'"
            ]
          },
          "execution_count": 12,
          "metadata": {},
          "output_type": "execute_result"
        }
      ],
      "source": [
        "# string2[::2]\n",
        "string2[::-2]"
      ]
    },
    {
      "cell_type": "code",
      "execution_count": null,
      "metadata": {
        "colab": {
          "base_uri": "https://localhost:8080/"
        },
        "id": "6vciheyLuxCL",
        "outputId": "76403308-4b1a-4327-c7a4-44ed81c991b7"
      },
      "outputs": [
        {
          "name": "stdout",
          "output_type": "stream",
          "text": [
            " tuples = ('kiit', 'university', 'bhubaneswar') \n",
            " Lists = ['Sumit', 'Tetarave', 'India']\n"
          ]
        }
      ],
      "source": [
        "# 1) Tuples-\n",
        "# A tuple consists of a number of information separated by commas\n",
        "tuples =  ('kiit', 'university', 'bhubaneswar')\n",
        "\n",
        "# 2] Lists\n",
        "# Written as a sequence of comma-separated values between square brackets\n",
        "# Values can be of different types\n",
        "# usually the items all have the same type\n",
        "Lists = ['Sumit', 'Tetarave', 'India']\n",
        "\n",
        "print(f\" tuples = {tuples} \\n Lists = {Lists}\")"
      ]
    },
    {
      "cell_type": "markdown",
      "metadata": {
        "id": "sVQ_QqhixC7i"
      },
      "source": [
        "Tuple and List are also a sequence type like String.\n",
        "\n",
        "\n",
        "*   Sequence operations are applicable such as indexing, slicing, etc.\n",
        "\n",
        "There is one major difference them:\n",
        "* Lists are mutable: Contents of a list can be modified\n",
        "* Tuples and Strings are immutable: Contents can not be modified"
      ]
    },
    {
      "cell_type": "code",
      "execution_count": null,
      "metadata": {
        "colab": {
          "base_uri": "https://localhost:8080/",
          "height": 180
        },
        "id": "fnqgb_2vz3Qu",
        "outputId": "99072d93-1fff-4eb2-a01c-2e3bc856901c"
      },
      "outputs": [
        {
          "output_type": "error",
          "ename": "TypeError",
          "evalue": "'str' object does not support item assignment",
          "traceback": [
            "\u001b[0;31m---------------------------------------------------------------------------\u001b[0m",
            "\u001b[0;31mTypeError\u001b[0m                                 Traceback (most recent call last)",
            "\u001b[0;32m<ipython-input-1-2aa1a8b7d272>\u001b[0m in \u001b[0;36m<cell line: 0>\u001b[0;34m()\u001b[0m\n\u001b[1;32m      1\u001b[0m \u001b[0;31m# Example of string immutable\u001b[0m\u001b[0;34m\u001b[0m\u001b[0;34m\u001b[0m\u001b[0m\n\u001b[1;32m      2\u001b[0m \u001b[0mstring_immutable\u001b[0m\u001b[0;34m=\u001b[0m \u001b[0;34m'string'\u001b[0m\u001b[0;34m\u001b[0m\u001b[0;34m\u001b[0m\u001b[0m\n\u001b[0;32m----> 3\u001b[0;31m \u001b[0mstring_immutable\u001b[0m\u001b[0;34m[\u001b[0m\u001b[0;36m3\u001b[0m\u001b[0;34m]\u001b[0m \u001b[0;34m=\u001b[0m \u001b[0;34m'o'\u001b[0m\u001b[0;34m\u001b[0m\u001b[0;34m\u001b[0m\u001b[0m\n\u001b[0m",
            "\u001b[0;31mTypeError\u001b[0m: 'str' object does not support item assignment"
          ]
        }
      ],
      "source": [
        "# Example of string immutable\n",
        "string_immutable= 'string'\n",
        "string_immutable[3] = 'o'"
      ]
    },
    {
      "cell_type": "code",
      "execution_count": null,
      "metadata": {
        "colab": {
          "base_uri": "https://localhost:8080/",
          "height": 176
        },
        "id": "w-Sj88Hhuw2Q",
        "outputId": "3bddcc3d-3463-4981-b45a-c3e466c33b44"
      },
      "outputs": [
        {
          "ename": "TypeError",
          "evalue": "'tuple' object does not support item assignment",
          "output_type": "error",
          "traceback": [
            "\u001b[0;31m---------------------------------------------------------------------------\u001b[0m",
            "\u001b[0;31mTypeError\u001b[0m                                 Traceback (most recent call last)",
            "\u001b[0;32m<ipython-input-16-d15844ce6486>\u001b[0m in \u001b[0;36m<cell line: 0>\u001b[0;34m()\u001b[0m\n\u001b[1;32m      4\u001b[0m \u001b[0;34m\u001b[0m\u001b[0m\n\u001b[1;32m      5\u001b[0m \u001b[0mtuple_immutable\u001b[0m\u001b[0;34m=\u001b[0m \u001b[0;34m(\u001b[0m\u001b[0;34m't'\u001b[0m\u001b[0;34m,\u001b[0m \u001b[0;34m'u'\u001b[0m\u001b[0;34m,\u001b[0m\u001b[0;34m'p'\u001b[0m\u001b[0;34m,\u001b[0m\u001b[0;34m'l'\u001b[0m\u001b[0;34m,\u001b[0m\u001b[0;34m'e'\u001b[0m\u001b[0;34m)\u001b[0m\u001b[0;34m\u001b[0m\u001b[0;34m\u001b[0m\u001b[0m\n\u001b[0;32m----> 6\u001b[0;31m \u001b[0mtuple_immutable\u001b[0m\u001b[0;34m[\u001b[0m\u001b[0;36m0\u001b[0m\u001b[0;34m]\u001b[0m \u001b[0;34m=\u001b[0m \u001b[0;34m'c'\u001b[0m\u001b[0;34m\u001b[0m\u001b[0;34m\u001b[0m\u001b[0m\n\u001b[0m",
            "\u001b[0;31mTypeError\u001b[0m: 'tuple' object does not support item assignment"
          ]
        }
      ],
      "source": [
        "# Example of tuple immutable\n",
        "tuple_immutable= ('t', 'u','p','l','e')\n",
        "tuple_immutable[0] = 'c'"
      ]
    },
    {
      "cell_type": "code",
      "execution_count": null,
      "metadata": {
        "colab": {
          "base_uri": "https://localhost:8080/"
        },
        "id": "sx128jbc0FGs",
        "outputId": "5c59a9fe-657f-46cc-b5ab-560ac1057b53"
      },
      "outputs": [
        {
          "output_type": "execute_result",
          "data": {
            "text/plain": [
              "['F', 'i', 's', 't']"
            ]
          },
          "metadata": {},
          "execution_count": 7
        }
      ],
      "source": [
        "# Example of List Mutable\n",
        "List_mutable= ['L', 'i','s','t']\n",
        "List_mutable[0] = 'F'\n",
        "List_mutable"
      ]
    },
    {
      "cell_type": "code",
      "execution_count": null,
      "metadata": {
        "colab": {
          "base_uri": "https://localhost:8080/"
        },
        "id": "ONvNHzYFeQSa",
        "outputId": "ea6adf89-39cc-4e0e-d138-bf10f84d37a0"
      },
      "outputs": [
        {
          "output_type": "stream",
          "name": "stdout",
          "text": [
            "F i s t\n"
          ]
        }
      ],
      "source": [
        "# Unpacking Sequences\n",
        "# * to get the components\n",
        "# * LHS and RHS must have equal length\n",
        "x1, x2, x3, x4 = List_mutable\n",
        "print(x1, x2, x3, x4)"
      ]
    },
    {
      "cell_type": "code",
      "execution_count": null,
      "metadata": {
        "colab": {
          "base_uri": "https://localhost:8080/"
        },
        "id": "83ehR5luuwxt",
        "outputId": "ad6c6f4e-58b9-4902-eef4-412b37357043"
      },
      "outputs": [
        {
          "output_type": "stream",
          "name": "stdout",
          "text": [
            " {'u', 'k', 'i', 'm', ' ', 't', 's', 'a', 'r'} \n",
            " {'e', 'v', 't', 'a', 'r'} \n"
          ]
        }
      ],
      "source": [
        "# Sets\n",
        "# An unordered collection with no duplicate elements\n",
        "set_1 = set('sumit kumar')\n",
        "set_2 = set('tetarave')\n",
        "print(f\" {set_1} \\n {set_2} \")"
      ]
    },
    {
      "cell_type": "code",
      "execution_count": null,
      "metadata": {
        "colab": {
          "base_uri": "https://localhost:8080/",
          "height": 141
        },
        "id": "upu1cEEwJz6Q",
        "outputId": "ef651f9f-4083-4d43-9d05-ce59bf812e85"
      },
      "outputs": [
        {
          "ename": "TypeError",
          "evalue": "'set' object is not subscriptable",
          "output_type": "error",
          "traceback": [
            "\u001b[0;31m---------------------------------------------------------------------------\u001b[0m",
            "\u001b[0;31mTypeError\u001b[0m                                 Traceback (most recent call last)",
            "\u001b[0;32m<ipython-input-3-a26ed39fc722>\u001b[0m in \u001b[0;36m<cell line: 0>\u001b[0;34m()\u001b[0m\n\u001b[0;32m----> 1\u001b[0;31m \u001b[0mset_1\u001b[0m\u001b[0;34m[\u001b[0m\u001b[0;36m0\u001b[0m\u001b[0;34m]\u001b[0m\u001b[0;34m\u001b[0m\u001b[0;34m\u001b[0m\u001b[0m\n\u001b[0m",
            "\u001b[0;31mTypeError\u001b[0m: 'set' object is not subscriptable"
          ]
        }
      ],
      "source": [
        "set_1[0]"
      ]
    },
    {
      "cell_type": "code",
      "execution_count": null,
      "metadata": {
        "colab": {
          "base_uri": "https://localhost:8080/"
        },
        "id": "eMIzhC8uKCJp",
        "outputId": "efb0e933-7ad5-46fc-ec73-d4f86043c7e3"
      },
      "outputs": [
        {
          "data": {
            "text/plain": [
              "True"
            ]
          },
          "execution_count": 4,
          "metadata": {},
          "output_type": "execute_result"
        }
      ],
      "source": [
        "# Supports membership testing, but not indexing\n",
        "'s' in set_1"
      ]
    },
    {
      "cell_type": "code",
      "execution_count": null,
      "metadata": {
        "colab": {
          "base_uri": "https://localhost:8080/"
        },
        "id": "RZHILvcfKg_C",
        "outputId": "813b5af0-99c8-44d5-df3a-6b477ee60b7f"
      },
      "outputs": [
        {
          "name": "stdout",
          "output_type": "stream",
          "text": [
            "Set_1 = {'s', 'r', 'u', 'k', ' ', 'a', 'i', 't', 'm'}\n",
            "Set_2 = {'e', 'r', 'v', 'a', 't'}\n",
            "Set difference= {'s', 'u', 'k', ' ', 'i', 'm'}\n",
            "Set Union= {'e', 's', 'r', 'u', 'k', 'v', ' ', 'a', 'i', 't', 'm'}\n",
            "Set Intersection= {'a', 't', 'r'}\n",
            "Symmetric Difference= {'s', 'u', 'v', 'k', ' ', 'i', 'm', 'e'}\n"
          ]
        }
      ],
      "source": [
        "# Set supports: union, intersection, difference, and symmetric difference operations.\n",
        "print(f\"Set_1 = {set_1}\\n\\\n",
        "Set_2 = {set_2}\\n\\\n",
        "Set difference= {set_1 - set_2}\\n\\\n",
        "Set Union= {set_1 | set_2}\\n\\\n",
        "Set Intersection= {set_1 & set_2}\\n\\\n",
        "Symmetric Difference= {set_1 ^ set_2}\")"
      ]
    },
    {
      "cell_type": "code",
      "execution_count": null,
      "metadata": {
        "colab": {
          "base_uri": "https://localhost:8080/"
        },
        "id": "gojLeVg4dWCC",
        "outputId": "eed0c88a-67a2-4b69-d879-3f83831038b8"
      },
      "outputs": [
        {
          "output_type": "stream",
          "name": "stdout",
          "text": [
            "capital = {'India': 'New Delhi', 'USA': 'WD'} and it's data type <class 'dict'>\n"
          ]
        }
      ],
      "source": [
        "# Dictionaries\n",
        "# Unordered set of key:value pairs,\n",
        "# Keys have to be unique and immutable\n",
        "# Key:value pairs enclosed inside curly braces {...}\n",
        "# Empty dictionary is created by writing {}\n",
        "# Dictionaries are mutable\n",
        "#    add new key:value pairs,\n",
        "#    change the pairing\n",
        "#    delete a key (and associated value)\n",
        "capital = {'India': 'New Delhi', 'USA':'WD'}\n",
        "print(f\"capital = {capital} and it's data type {type(capital)}\")"
      ]
    },
    {
      "cell_type": "code",
      "execution_count": null,
      "metadata": {
        "colab": {
          "base_uri": "https://localhost:8080/"
        },
        "id": "DF32_wHZhL3j",
        "outputId": "6ff3b4d2-085d-4924-b38f-5d6f9ce2cdf4"
      },
      "outputs": [
        {
          "output_type": "execute_result",
          "data": {
            "text/plain": [
              "{'India': 'New Delhi', 'USA': 'WD'}"
            ]
          },
          "metadata": {},
          "execution_count": 9
        }
      ],
      "source": [
        "# The dict constructor: builds dictionaries directly from sequences of key-value pairs\n",
        "dic_from_seq = dict([('India','New Delhi'), ('USA','WD')])\n",
        "dic_from_seq"
      ]
    },
    {
      "cell_type": "markdown",
      "metadata": {
        "id": "AWacrsL3gUZv"
      },
      "source": [
        "Operations on Dictionaries\n",
        "\n",
        "\n",
        "1.   **len(d)** - Number of key:value pairs in d\n",
        "2.   **d.keys()** - List containing the keys in d\n",
        "3.   **d.values()** - List containing the values in d\n",
        "4.   **k in d** - True if key k is in d\n",
        "5.   **d[k]** - Value associated with key k in d\n",
        "6.   **d.get(k, v)** - If k is present in d, then d[k] else v\n",
        "7.   **d[k] = v** - Map the value v to key k in d (replace d[k] if present)\n",
        "8.  **del d[k]** - Remove key k (and associated value) from d\n",
        "9.  **for k in d** - Iterate over the keys in d\n",
        "\n",
        "etc."
      ]
    },
    {
      "cell_type": "code",
      "source": [
        "len(dic_from_seq)"
      ],
      "metadata": {
        "colab": {
          "base_uri": "https://localhost:8080/"
        },
        "id": "GZMNJ6rrd9Hs",
        "outputId": "591ab4ba-1891-4e1f-ceb2-711b3027ebae"
      },
      "execution_count": null,
      "outputs": [
        {
          "output_type": "execute_result",
          "data": {
            "text/plain": [
              "2"
            ]
          },
          "metadata": {},
          "execution_count": 10
        }
      ]
    },
    {
      "cell_type": "code",
      "source": [
        "dic_from_seq.get('Canada', 'not')"
      ],
      "metadata": {
        "colab": {
          "base_uri": "https://localhost:8080/",
          "height": 36
        },
        "id": "XtJdRmGgeQqg",
        "outputId": "836f83f6-1802-40da-ca66-072cc054f3c2"
      },
      "execution_count": null,
      "outputs": [
        {
          "output_type": "execute_result",
          "data": {
            "text/plain": [
              "'not'"
            ],
            "application/vnd.google.colaboratory.intrinsic+json": {
              "type": "string"
            }
          },
          "metadata": {},
          "execution_count": 13
        }
      ]
    },
    {
      "cell_type": "code",
      "execution_count": null,
      "metadata": {
        "colab": {
          "base_uri": "https://localhost:8080/"
        },
        "id": "wejvpaYxfaF0",
        "outputId": "a394be96-fbb5-4c83-87d7-593ce7f56ddf"
      },
      "outputs": [
        {
          "data": {
            "text/plain": [
              "dict_keys(['India', 'USA'])"
            ]
          },
          "execution_count": 29,
          "metadata": {},
          "output_type": "execute_result"
        }
      ],
      "source": [
        "dic_from_seq.keys()\n"
      ]
    },
    {
      "cell_type": "markdown",
      "metadata": {
        "id": "bFk8RLejAMDr"
      },
      "source": [
        "* We can use nested List, Tuples, etc., according to our need.\n",
        "* Some operations on LIST-\n",
        "\n",
        "1. L.append(x)\n",
        "2. L.extend(seq)\n",
        "3. L.insert(i, x)\n",
        "4. L.remove(x)\n",
        "5. L.pop(i)\n",
        "6. L.pop()\n",
        "7. L.index(x)\n",
        "8. L.count(x)\n",
        "9. L.sort()\n",
        "10. L.reverse()"
      ]
    },
    {
      "cell_type": "code",
      "execution_count": null,
      "metadata": {
        "colab": {
          "base_uri": "https://localhost:8080/"
        },
        "id": "gJLot187Y5zh",
        "outputId": "c4c0711d-35ef-479e-c4d2-61b9447fc5b7"
      },
      "outputs": [
        {
          "output_type": "execute_result",
          "data": {
            "text/plain": [
              "3"
            ]
          },
          "metadata": {},
          "execution_count": 40
        }
      ],
      "source": [
        "List= [1,2,3]\n",
        "List.pop()"
      ]
    },
    {
      "cell_type": "code",
      "source": [
        "List.remove(3)\n",
        "List"
      ],
      "metadata": {
        "colab": {
          "base_uri": "https://localhost:8080/"
        },
        "id": "nWifwr3BnVi-",
        "outputId": "0f3bc8ff-9f72-4c8a-ca72-2c5fd4e80ee8"
      },
      "execution_count": null,
      "outputs": [
        {
          "output_type": "execute_result",
          "data": {
            "text/plain": [
              "[1, 2]"
            ]
          },
          "metadata": {},
          "execution_count": 39
        }
      ]
    },
    {
      "cell_type": "markdown",
      "metadata": {
        "id": "Xyu7qBZCz5ur"
      },
      "source": [
        "**Day 2, Session 1:**\n",
        "\n",
        "List Comprihesion for efficient Python Code"
      ]
    },
    {
      "cell_type": "code",
      "source": [
        "vec = [[1,2,3], [4,5,6], [7,8,9]]\n",
        "vec[2]"
      ],
      "metadata": {
        "colab": {
          "base_uri": "https://localhost:8080/"
        },
        "id": "ByxcIu5SfS6b",
        "outputId": "c2ebfe22-cd07-45de-8f60-3c005381d413"
      },
      "execution_count": null,
      "outputs": [
        {
          "output_type": "execute_result",
          "data": {
            "text/plain": [
              "[7, 8, 9]"
            ]
          },
          "metadata": {},
          "execution_count": 21
        }
      ]
    },
    {
      "cell_type": "code",
      "execution_count": null,
      "metadata": {
        "colab": {
          "base_uri": "https://localhost:8080/"
        },
        "id": "GVgiZINfY5rQ",
        "outputId": "ddd80eae-01a4-4154-cc49-d35db6f0f500"
      },
      "outputs": [
        {
          "output_type": "execute_result",
          "data": {
            "text/plain": [
              "[1, 2, 3, 4, 5, 6, 7, 8, 9]"
            ]
          },
          "metadata": {},
          "execution_count": 22
        }
      ],
      "source": [
        "vec = [[1,2,3], [4,5,6], [7,8,9]]\n",
        "\n",
        "flattenList= []\n",
        "for elem in vec:\n",
        "    for num in elem:\n",
        "        flattenList.append(num)\n",
        "flattenList"
      ]
    },
    {
      "cell_type": "code",
      "execution_count": null,
      "metadata": {
        "colab": {
          "base_uri": "https://localhost:8080/"
        },
        "id": "OQP7N5vy1jx9",
        "outputId": "ca93bb4d-2ddf-4a26-e836-ae729f6a4812"
      },
      "outputs": [
        {
          "output_type": "execute_result",
          "data": {
            "text/plain": [
              "[1, 2, 3, 4, 5, 6, 7, 8, 9]"
            ]
          },
          "metadata": {},
          "execution_count": 23
        }
      ],
      "source": [
        "[num for elem in vec for num in elem]"
      ]
    },
    {
      "cell_type": "code",
      "execution_count": null,
      "metadata": {
        "colab": {
          "base_uri": "https://localhost:8080/"
        },
        "id": "K6xjdp2R7pkJ",
        "outputId": "b29b009f-046c-4e80-c794-bb2e69b3bbd7"
      },
      "outputs": [
        {
          "name": "stdout",
          "output_type": "stream",
          "text": [
            "0.036 sec\n",
            "0.017 sec: comprehension vs loop: -51.2%\n"
          ]
        }
      ],
      "source": [
        "# Power of list comprehension\n",
        "# For example, to square each number in a LARGE list of 100,000 numbers\n",
        "import random\n",
        "import time\n",
        "\n",
        "rands = [random.randrange(1, 100, 1) for i in range(100000)]\n",
        "\n",
        "# Start without List comprehension\n",
        "t = time.perf_counter()\n",
        "\n",
        "rands2 = []\n",
        "for n in rands:\n",
        "  n = n**2\n",
        "  rands2.append(n)\n",
        "\n",
        "tLoop = time.perf_counter() - t\n",
        "print(f'{tLoop:.3f} sec')\n",
        "\n",
        "# Using List comprehension\n",
        "t = time.perf_counter()\n",
        "_ = [n**2 for n in rands]\n",
        "\n",
        "tComp = time.perf_counter() - t\n",
        "print(f'{tComp:.3f} sec: comprehension vs loop: {100*(tComp/tLoop-1):.1f}%')"
      ]
    },
    {
      "cell_type": "markdown",
      "metadata": {
        "id": "yWB5r7Qn_oGO"
      },
      "source": [
        "* More clean coding with Python's **zip(), * operator, map(), lambda()**, etc using our dataset."
      ]
    },
    {
      "cell_type": "code",
      "execution_count": null,
      "metadata": {
        "colab": {
          "base_uri": "https://localhost:8080/"
        },
        "id": "ixFFnkHzAAkv",
        "outputId": "5011688f-f571-4069-91b2-e23d301b5740"
      },
      "outputs": [
        {
          "output_type": "execute_result",
          "data": {
            "text/plain": [
              "[[1, 2, 3, 4], [5, 6, 7, 8], [9, 10, 11, 12]]"
            ]
          },
          "metadata": {},
          "execution_count": 24
        }
      ],
      "source": [
        "matrix = [ [1, 2, 3, 4],\n",
        "           [5, 6, 7, 8],\n",
        "           [9, 10, 11, 12]]\n",
        "matrix"
      ]
    },
    {
      "cell_type": "code",
      "execution_count": null,
      "metadata": {
        "colab": {
          "base_uri": "https://localhost:8080/"
        },
        "id": "pC9tlc7eAVMr",
        "outputId": "f814d0ab-0207-4f5c-fa87-6ac563264933"
      },
      "outputs": [
        {
          "output_type": "stream",
          "name": "stdout",
          "text": [
            "[1, 5, 9]\n",
            "[2, 6, 10]\n",
            "[3, 7, 11]\n",
            "[4, 8, 12]\n"
          ]
        },
        {
          "output_type": "execute_result",
          "data": {
            "text/plain": [
              "[[1, 5, 9], [2, 6, 10], [3, 7, 11], [4, 8, 12]]"
            ]
          },
          "metadata": {},
          "execution_count": 25
        }
      ],
      "source": [
        "transposed = []\n",
        "for i in range(4):\n",
        "    col=[]\n",
        "    for row in matrix:\n",
        "        col.append(row[i])\n",
        "    print(col)\n",
        "    transposed.append(col)\n",
        "transposed"
      ]
    },
    {
      "cell_type": "code",
      "execution_count": null,
      "metadata": {
        "colab": {
          "base_uri": "https://localhost:8080/"
        },
        "id": "UJ3JGHz1BA9J",
        "outputId": "39b001c7-708b-45c4-f0ed-be35c6b78d35"
      },
      "outputs": [
        {
          "output_type": "execute_result",
          "data": {
            "text/plain": [
              "[[1, 5, 9], [2, 6, 10], [3, 7, 11], [4, 8, 12]]"
            ]
          },
          "metadata": {},
          "execution_count": 26
        }
      ],
      "source": [
        "transposed = []\n",
        "for i in range(4):\n",
        "\ttransposed.append([row[i] for row in matrix])\n",
        "transposed"
      ]
    },
    {
      "cell_type": "code",
      "execution_count": null,
      "metadata": {
        "colab": {
          "base_uri": "https://localhost:8080/"
        },
        "id": "4PFFABX4AVJe",
        "outputId": "bbfca84d-bb22-4157-f4f4-453d91c4c59e"
      },
      "outputs": [
        {
          "output_type": "execute_result",
          "data": {
            "text/plain": [
              "[[1, 5, 9], [2, 6, 10], [3, 7, 11], [4, 8, 12]]"
            ]
          },
          "metadata": {},
          "execution_count": 27
        }
      ],
      "source": [
        "[[row[i] for row in matrix] for i in range(4)]"
      ]
    },
    {
      "cell_type": "code",
      "execution_count": null,
      "metadata": {
        "colab": {
          "base_uri": "https://localhost:8080/"
        },
        "id": "qST04OjFEPlB",
        "outputId": "555b8476-46e8-4264-8aa9-0f89ace406e9"
      },
      "outputs": [
        {
          "output_type": "execute_result",
          "data": {
            "text/plain": [
              "[(1, 5, 9), (2, 6, 10), (3, 7, 11), (4, 8, 12)]"
            ]
          },
          "metadata": {},
          "execution_count": 29
        }
      ],
      "source": [
        "list(zip(*matrix))"
      ]
    },
    {
      "cell_type": "code",
      "execution_count": null,
      "metadata": {
        "colab": {
          "base_uri": "https://localhost:8080/"
        },
        "id": "1g4TTYnPAVDj",
        "outputId": "a902cf72-d4e3-4c93-bc6e-fddae1bb1903"
      },
      "outputs": [
        {
          "name": "stdout",
          "output_type": "stream",
          "text": [
            "[1, 2, 3, 4] [5, 6, 7, 8] [9, 10, 11, 12]\n"
          ]
        }
      ],
      "source": [
        "# The asterisk * operator unpacks the list matrix\n",
        "print(*matrix)"
      ]
    },
    {
      "cell_type": "code",
      "execution_count": null,
      "metadata": {
        "colab": {
          "base_uri": "https://localhost:8080/"
        },
        "id": "1_MpSYPZB3MN",
        "outputId": "6765e1b6-aa0b-4e2d-887f-6576b81b1d62"
      },
      "outputs": [
        {
          "name": "stdout",
          "output_type": "stream",
          "text": [
            "S u m i t\n"
          ]
        }
      ],
      "source": [
        "string= 'Sumit'\n",
        "print(*string)"
      ]
    },
    {
      "cell_type": "code",
      "execution_count": null,
      "metadata": {
        "colab": {
          "base_uri": "https://localhost:8080/"
        },
        "id": "-Qy3_zjXAVBL",
        "outputId": "3eda0ffb-c202-40fe-f996-476872908798"
      },
      "outputs": [
        {
          "data": {
            "text/plain": [
              "[(1, 5, 9), (2, 6, 10), (3, 7, 11), (4, 8, 12)]"
            ]
          },
          "execution_count": 13,
          "metadata": {},
          "output_type": "execute_result"
        }
      ],
      "source": [
        "# zip() recombines the elements as columns\n",
        "list(zip(*matrix))"
      ]
    },
    {
      "cell_type": "markdown",
      "metadata": {
        "id": "gPhfNGHlD6lm"
      },
      "source": [
        "* zip() function in Python combines multiple iterables such as lists, tuples, strings, etc, into a single iterator of tuples.\n",
        "* Each tuple contains elements from the input iterables that are at the same position.\n",
        "* For example: to pair student names with their test scores:"
      ]
    },
    {
      "cell_type": "code",
      "execution_count": null,
      "metadata": {
        "colab": {
          "base_uri": "https://localhost:8080/"
        },
        "id": "Di5hM_KHAU-b",
        "outputId": "6ab32348-55c6-4042-de19-d5ad11fc3589"
      },
      "outputs": [
        {
          "output_type": "stream",
          "name": "stdout",
          "text": [
            "[('Rohit', 'MCA', 85), ('Dev', 'MSC', 90), ('Roy', 'BCA', 78), ('Dash', 'BSC', 92)]\n"
          ]
        }
      ],
      "source": [
        "names = ['Rohit', 'Dev', 'Roy', 'Dash']\n",
        "scores = [85, 90, 78, 92]\n",
        "course = ['MCA', 'MSC', 'BCA', 'BSC']\n",
        "\n",
        "res = zip(names, course, scores)\n",
        "print(list(res))"
      ]
    },
    {
      "cell_type": "markdown",
      "metadata": {
        "id": "4Neb1hQVG2AS"
      },
      "source": [
        "Python **map() and Lambda** function"
      ]
    },
    {
      "cell_type": "code",
      "execution_count": null,
      "metadata": {
        "colab": {
          "base_uri": "https://localhost:8080/"
        },
        "id": "MckQS5Q3G8YD",
        "outputId": "9b12dfe6-a948-4b1d-d994-9b4abed3707d"
      },
      "outputs": [
        {
          "output_type": "stream",
          "name": "stdout",
          "text": [
            "[1, 2, 3, 4]\n"
          ]
        }
      ],
      "source": [
        "#The map() function is used to apply a given function to every item of an iterable, such as a list or tuple,\n",
        "# and returns a map object (which is an iterator).\n",
        "s = ['1', '2', '3', '4']\n",
        "intValue= map(int, s)\n",
        "print(list(intValue))"
      ]
    },
    {
      "cell_type": "code",
      "execution_count": null,
      "metadata": {
        "colab": {
          "base_uri": "https://localhost:8080/"
        },
        "id": "1a243KqGIfMV",
        "outputId": "e2fdd420-c218-4360-da3e-4fb8af290929"
      },
      "outputs": [
        {
          "output_type": "stream",
          "name": "stdout",
          "text": [
            "6\n"
          ]
        }
      ],
      "source": [
        "# Lambda can have any number of arguments but only one expression.\n",
        "# The expression is evaluated and returned.\n",
        "add = lambda x,y : x+y\n",
        "print (add(2,4))"
      ]
    },
    {
      "cell_type": "markdown",
      "source": [
        "# Video Link of Part 1 [Watch after 35 minutes]:\n",
        "https://youtu.be/ehYJoQ-3mUc\n",
        "\n",
        "\n",
        "# **CoLab Link-Part 2:**\n",
        "\n",
        "https://colab.research.google.com/drive/128BySHe7K6-Tahw9nDNfjLguZ1YRMHK3?usp=sharing"
      ],
      "metadata": {
        "id": "BjR_v8PvAwUj"
      }
    },
    {
      "cell_type": "code",
      "source": [],
      "metadata": {
        "id": "WFirQB4DP32q"
      },
      "execution_count": null,
      "outputs": []
    }
  ],
  "metadata": {
    "colab": {
      "provenance": [],
      "include_colab_link": true
    },
    "kernelspec": {
      "display_name": "Python 3",
      "name": "python3"
    },
    "language_info": {
      "name": "python"
    }
  },
  "nbformat": 4,
  "nbformat_minor": 0
}